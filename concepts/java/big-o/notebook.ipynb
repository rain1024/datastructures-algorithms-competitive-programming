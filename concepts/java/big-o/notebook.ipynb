{
 "cells": [
  {
   "cell_type": "markdown",
   "metadata": {},
   "source": [
    "# Big-O in Java"
   ]
  },
  {
   "cell_type": "markdown",
   "metadata": {},
   "source": [
    "## Constant Run Time\n",
    "\n",
    "$O(1)$: Constant time, the time complexity of the algorithm is independent of the size of the input. Examples include accessing an array element by index or pushing/popping from a stack."
   ]
  },
  {
   "cell_type": "code",
   "execution_count": 9,
   "metadata": {
    "vscode": {
     "languageId": "java"
    }
   },
   "outputs": [
    {
     "name": "stdout",
     "output_type": "stream",
     "text": [
      "0\n",
      "1\n",
      "2\n",
      "3\n",
      "4\n",
      "5\n",
      "6\n",
      "7\n",
      "8\n",
      "9\n",
      "10\n",
      "11\n",
      "12\n",
      "13\n",
      "14\n",
      "15\n",
      "16\n",
      "17\n",
      "18\n",
      "19\n",
      "20\n",
      "21\n",
      "22\n",
      "23\n"
     ]
    }
   ],
   "source": [
    "void doRandomStuff(){\n",
    "  boolean foo = true;  // 1 operation\n",
    "  int bar = 8 * 3;\n",
    "  \n",
    "  if(bar < 20){\n",
    "    System.out.println(\"bar is small\");\n",
    "  }\n",
    "\n",
    "  for(int i=0; i<bar; i++){\n",
    "    System.out.println(i);\n",
    "  }\n",
    "}\n",
    "\n",
    "doRandomStuff() // O(1)"
   ]
  },
  {
   "cell_type": "markdown",
   "metadata": {},
   "source": [
    "## Linear Run Time \n",
    "\n",
    "$O(n)$: Linear time, the time complexity of the algorithm increases linearly with the size of the input. Examples include linear search, traversing a list, or calculating the sum of an array."
   ]
  },
  {
   "cell_type": "code",
   "execution_count": 12,
   "metadata": {
    "vscode": {
     "languageId": "java"
    }
   },
   "outputs": [
    {
     "data": {
      "text/plain": [
       "true"
      ]
     },
     "execution_count": 12,
     "metadata": {},
     "output_type": "execute_result"
    }
   ],
   "source": [
    "boolean isContains(int target, int[] arr){\n",
    "  for(int i=0; i<arr.length; i++){\n",
    "    if(arr[i] == target){\n",
    "      return true;\n",
    "    }\n",
    "  }\n",
    "  return false;\n",
    "}"
   ]
  },
  {
   "cell_type": "code",
   "execution_count": 17,
   "metadata": {
    "vscode": {
     "languageId": "java"
    }
   },
   "outputs": [
    {
     "name": "stdout",
     "output_type": "stream",
     "text": [
      "true\n",
      "false\n",
      "false\n"
     ]
    }
   ],
   "source": [
    "int[] arr;\n",
    "\n",
    "arr = new int[]{1, 2, 3, 4, 5, 8, 10}; \n",
    "System.out.println(isContains(8, arr)); // O(n)\n",
    "\n",
    "arr = new int[]{1, 2, 3, 4, 5, 6, 7, 9, 10}; \n",
    "System.out.println(isContains(8, arr)); // O(n)\n",
    "\n",
    "arr = new int[]{1, 2, 100, 200, 300, 500}; \n",
    "System.out.println(isContains(8, arr)); // O(n)\n"
   ]
  },
  {
   "cell_type": "markdown",
   "metadata": {},
   "source": [
    "Run time for `isContains` function is $O(n)$"
   ]
  },
  {
   "cell_type": "markdown",
   "metadata": {},
   "source": [
    "## Quadaric Run Time\n",
    "\n",
    "$O(n^2)$: Quadratic time, the time complexity of the algorithm increases as the square of the size of the input. Examples include bubble sort and selection sort."
   ]
  },
  {
   "cell_type": "code",
   "execution_count": 19,
   "metadata": {
    "vscode": {
     "languageId": "java"
    }
   },
   "outputs": [
    {
     "name": "stdout",
     "output_type": "stream",
     "text": [
      "(1, 2) (1, 3) (1, 4) \n",
      "(2, 3) (2, 4) \n",
      "(3, 4) \n",
      "\n"
     ]
    }
   ],
   "source": [
    "void printPairs(int n){\n",
    "  for(int i=1; i<=n; i++){\n",
    "    for(int j=i+1; j<=n; j++){\n",
    "      System.out.print(\"(\" + i + \", \" + j + \") \");\n",
    "    }\n",
    "    System.out.println();\n",
    "  }\n",
    "}\n",
    "\n",
    "printPairs(4)"
   ]
  },
  {
   "cell_type": "markdown",
   "metadata": {},
   "source": [
    "$f(n) = n * (n-1) * 1$\n",
    "\n",
    "$O(f(n)) = O(n^2)$\n",
    "\n",
    "Run time for `printPairs` is $O(n^2)$"
   ]
  },
  {
   "cell_type": "markdown",
   "metadata": {},
   "source": [
    "## Logarithm Run Time\n",
    "\n",
    "$O(log n)$: Logirthm time describes an algorithm that performs a logarithmic number of operations, where the log is typically base 2. Examples include binary search and finding the height of a balanced binary tree."
   ]
  },
  {
   "cell_type": "code",
   "execution_count": 26,
   "metadata": {
    "vscode": {
     "languageId": "java"
    }
   },
   "outputs": [
    {
     "name": "stdout",
     "output_type": "stream",
     "text": [
      "true\n",
      "false\n",
      "true\n"
     ]
    }
   ],
   "source": [
    "boolean isContains(int target, int[] numbers){\n",
    "  /* arr is sorted array */\n",
    "  int lo = 0;\n",
    "  int hi = numbers.length - 1;\n",
    "  int mid;\n",
    "  while(lo <= hi){\n",
    "    mid = (lo + hi) / 2;\n",
    "    if(numbers[mid] == target){\n",
    "      return true;\n",
    "    } else if(numbers[mid] < target){\n",
    "      lo = mid + 1;\n",
    "    } else {\n",
    "      hi = mid - 1;\n",
    "    }\n",
    "  }\n",
    "  return false;\n",
    "}\n",
    "\n",
    "int[] numbers;\n",
    "\n",
    "numbers = new int[]{1, 2, 3, 4, 5, 8, 10};\n",
    "System.out.println(isContains(8, numbers)); // O(log n)\n",
    "\n",
    "numbers = new int[]{1, 2, 3, 4, 5, 9, 10};\n",
    "System.out.println(isContains(8, numbers)); // O(log n)\n",
    "\n",
    "numbers = new int[]{8, 9, 10, 11, 12};\n",
    "System.out.println(isContains(8, numbers));  // O(log n)"
   ]
  },
  {
   "cell_type": "markdown",
   "metadata": {},
   "source": [
    "$f(n) = 1 + 1 + 1 + 3log(n)= 3 + 3log(n)$\n",
    "\n",
    "$O(f(n)) = O(log(n))$\n",
    "\n",
    "Run time for `isContains` (with numbers is sorted array) is $O(log(n))$"
   ]
  },
  {
   "cell_type": "markdown",
   "metadata": {},
   "source": [
    "## Combined Run Time"
   ]
  },
  {
   "cell_type": "markdown",
   "metadata": {},
   "source": [
    "```java\n",
    "void combine = (int[] nums) => {\n",
    "    foo(nums);  // O(1)\n",
    "    fuu(nums);  // O(log(n))\n",
    "    bar(nums);  // O(n)\n",
    "    baz(nums);  // O(n^2)\n",
    "}\n",
    "\n",
    "combine({1, 2, 3, 4, 5, 6}); // O(n^2)\n",
    "```\n",
    "\n",
    "$f(n) = 1 + log(n) + n + n^2$\n",
    "\n",
    "$O(f(n)) = O(n^2)$\n",
    "\n",
    "Runtime for `combine()` is $O(n^2)$"
   ]
  },
  {
   "cell_type": "markdown",
   "metadata": {},
   "source": [
    "## 🔗 Further Reading\n",
    "\n",
    "* [Time complexity](https://en.wikipedia.org/wiki/Time_complexity), wikipedia\n",
    "* [Space complexity](https://en.wikipedia.org/wiki/Space_complexity), wikipedia\n",
    "* ▶️ [Asymptotic Notation](https://www.youtube.com/watch?v=iOq5kSKqeR4&ab_channel=CS50), CS50\n",
    "* ▶️ 2020, [Data Structures in Typescript #3 - Big-O Algorithm Analysis](https://www.youtube.com/watch?v=F2wwpDgoSoc&ab_channel=JeffZhang), Jeff Zhang"
   ]
  }
 ],
 "metadata": {
  "kernelspec": {
   "display_name": "Java",
   "language": "java",
   "name": "java"
  },
  "language_info": {
   "codemirror_mode": "java",
   "file_extension": ".jshell",
   "mimetype": "text/x-java-source",
   "name": "Java",
   "pygments_lexer": "java",
   "version": "11.0.18+10-post-Ubuntu-0ubuntu120.04.1"
  },
  "orig_nbformat": 4
 },
 "nbformat": 4,
 "nbformat_minor": 2
}
