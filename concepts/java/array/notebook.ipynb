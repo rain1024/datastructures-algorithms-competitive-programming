{
 "cells": [
  {
   "cell_type": "markdown",
   "metadata": {},
   "source": [
    "# Array in Java\n",
    "\n",
    "In computer science, an `array` is a data structure consisting of a collection of elements (values or variables), each identified by at least one array index or key. An array is stored such that the position of each element can be computed from its index tuple by a mathematical formula.\n",
    "\n",
    "## Time Complexity Analysis of Array\n",
    "\n",
    "| Operation       | Creation | Insertion        | Accessing | Update | Deletion         | Searching |\n",
    "|-----------------|----------|------------------|-----------|--------|------------------|-----------|\n",
    "| Time Complexity | $O(1)$   | $O(1)$ or $O(n)$ | $O(1)$    | $O(n)$ | $O(1)$ or $O(n)$ | $O(n)$    |"
   ]
  },
  {
   "cell_type": "markdown",
   "metadata": {},
   "source": [
    "## Array implementation in Java"
   ]
  },
  {
   "cell_type": "markdown",
   "metadata": {},
   "source": [
    "## Basic Operations"
   ]
  },
  {
   "cell_type": "markdown",
   "metadata": {},
   "source": [
    "**Initialization**: Create an array with given values"
   ]
  },
  {
   "cell_type": "code",
   "execution_count": 11,
   "metadata": {
    "vscode": {
     "languageId": "java"
    }
   },
   "outputs": [
    {
     "data": {
      "text/plain": [
       "40"
      ]
     },
     "execution_count": 11,
     "metadata": {},
     "output_type": "execute_result"
    }
   ],
   "source": [
    "int a[] = new int[5];\n",
    "\n",
    "a[0] = 10;\n",
    "a[1] = 20;\n",
    "a[2] = 30;\n",
    "a[3] = 40;"
   ]
  },
  {
   "cell_type": "code",
   "execution_count": 12,
   "metadata": {
    "vscode": {
     "languageId": "java"
    }
   },
   "outputs": [],
   "source": [
    "int b[] = {1, 2, 3, 4, 5};"
   ]
  },
  {
   "cell_type": "markdown",
   "metadata": {},
   "source": [
    "**Accessing Elements**: Access element by index (zero-based)"
   ]
  },
  {
   "cell_type": "code",
   "execution_count": 13,
   "metadata": {
    "vscode": {
     "languageId": "java"
    }
   },
   "outputs": [
    {
     "name": "stdout",
     "output_type": "stream",
     "text": [
      "a[0] = 10\n",
      "a[4] = 0\n"
     ]
    }
   ],
   "source": [
    "System.out.println(\"a[0] = \" + a[0]);\n",
    "System.out.println(\"a[4] = \" + a[4]);"
   ]
  },
  {
   "cell_type": "markdown",
   "metadata": {},
   "source": [
    "**Updating Elements**: Update an element by its index"
   ]
  },
  {
   "cell_type": "code",
   "execution_count": 14,
   "metadata": {
    "vscode": {
     "languageId": "java"
    }
   },
   "outputs": [
    {
     "name": "stdout",
     "output_type": "stream",
     "text": [
      "a[0] = 100\n"
     ]
    }
   ],
   "source": [
    "a[0] = 100;\n",
    "System.out.println(\"a[0] = \" + a[0]);"
   ]
  },
  {
   "cell_type": "markdown",
   "metadata": {},
   "source": [
    "**Size**: Get the number of elements in the array\n",
    "\n",
    "You can use the [`length`](https://docs.oracle.com/javase/specs/jls/se19/html/jls-10.html#jls-10.7) property of the array to get the number of elements in the array."
   ]
  },
  {
   "cell_type": "code",
   "execution_count": 15,
   "metadata": {
    "vscode": {
     "languageId": "java"
    }
   },
   "outputs": [
    {
     "name": "stdout",
     "output_type": "stream",
     "text": [
      "a.length = 5\n"
     ]
    }
   ],
   "source": [
    "System.out.println(\"a.length = \" + a.length);"
   ]
  },
  {
   "cell_type": "markdown",
   "metadata": {},
   "source": [
    "**Traversal**: Visit all elements of the array"
   ]
  },
  {
   "cell_type": "code",
   "execution_count": 16,
   "metadata": {
    "vscode": {
     "languageId": "java"
    }
   },
   "outputs": [
    {
     "name": "stdout",
     "output_type": "stream",
     "text": [
      "a[0] = 100\n",
      "a[1] = 20\n",
      "a[2] = 30\n",
      "a[3] = 40\n",
      "a[4] = 0\n"
     ]
    }
   ],
   "source": [
    "for(int i=0; i<a.length; i++) {\n",
    "    System.out.println(\"a[\" + i + \"] = \" + a[i]);\n",
    "}"
   ]
  },
  {
   "cell_type": "markdown",
   "metadata": {},
   "source": [
    "**Input**: Read values into the array from a stream"
   ]
  },
  {
   "cell_type": "markdown",
   "metadata": {},
   "source": [
    "```java\n",
    "import java.util.Scanner;\n",
    "\n",
    "public class Main {\n",
    "    public static void main(String[] args)\n",
    "    {\n",
    "        Scanner s = new Scanner(System.in);\n",
    "        int n = s.nextInt();\n",
    "        int a[] = new int[n];\n",
    "        for(int i=0; i<n; i++){\n",
    "            a[i] = s.nextInt();\n",
    "        }\n",
    "        \n",
    "        for(int i=0; i<n; i++){\n",
    "            System.out.print(a[i] + \" \");\n",
    "        }\n",
    "    }\n",
    "}\n",
    "```"
   ]
  },
  {
   "cell_type": "markdown",
   "metadata": {},
   "source": [
    "## 🔗 Further Reading\n",
    "\n",
    "* [Array (data structure)](https://en.wikipedia.org/wiki/Array_(data_structure))\n",
    "* ▶️ [Array In Data Structure](https://www.youtube.com/watch?v=eXFItikqw8c&ab_channel=Simplilearn), Simplilearn\n",
    "* ▶️ [Dynamic and Static Arrays](https://www.youtube.com/watch?v=PEnFFiQe1pM&list=PLDV1Zeh2NRsB6SWUrDFW2RmDotAfPbeHu&index=4&ab_channel=WilliamFiset), WilliamFiset\n",
    "* ▶️ [An Overview of Arrays and Memory (Data Structures & Algorithms #2)](https://www.youtube.com/watch?v=pmN9ExDf3yQ&ab_channel=CSDojo), CS Dojo\n"
   ]
  }
 ],
 "metadata": {
  "kernelspec": {
   "display_name": "Java",
   "language": "java",
   "name": "java"
  },
  "language_info": {
   "codemirror_mode": "java",
   "file_extension": ".jshell",
   "mimetype": "text/x-java-source",
   "name": "Java",
   "pygments_lexer": "java",
   "version": "11.0.18+10-post-Ubuntu-0ubuntu120.04.1"
  },
  "orig_nbformat": 4
 },
 "nbformat": 4,
 "nbformat_minor": 2
}
