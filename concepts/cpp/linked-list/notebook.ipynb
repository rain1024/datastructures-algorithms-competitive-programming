{
 "cells": [
  {
   "cell_type": "markdown",
   "metadata": {},
   "source": [
    "# Linked List in C++\n",
    "\n",
    "From wikipedia\n",
    "\n",
    "> In computer science, a `linked list` is a linear collection of data elements whose order is not given by their physical placement in memory. Instead, each element points to the next. It is a data structure consisting of a collection of nodes which together represent a sequence."
   ]
  },
  {
   "cell_type": "markdown",
   "metadata": {},
   "source": [
    "## Linked List implementation in C++"
   ]
  },
  {
   "cell_type": "markdown",
   "metadata": {},
   "source": [
    "## Basic Operations"
   ]
  },
  {
   "cell_type": "code",
   "execution_count": 2,
   "metadata": {
    "vscode": {
     "languageId": "cpp"
    }
   },
   "outputs": [],
   "source": [
    "#include <iostream>\n",
    "\n",
    "using namespace std;"
   ]
  },
  {
   "cell_type": "markdown",
   "metadata": {},
   "source": [
    "**Initialization**: Create a linked list with given values"
   ]
  },
  {
   "cell_type": "code",
   "execution_count": 7,
   "metadata": {
    "vscode": {
     "languageId": "cpp"
    }
   },
   "outputs": [],
   "source": [
    "struct Node {\n",
    "    int val;\n",
    "    Node* next;\n",
    "    Node(): val(0), next(NULL) {}\n",
    "    Node(int val): val(val), next(NULL){}\n",
    "    Node(int val, Node* next): val(val), next(next){}\n",
    "};\n",
    "\n",
    "Node* node1 = new Node(1);\n",
    "Node* node2 = new Node(2, node1);"
   ]
  },
  {
   "cell_type": "markdown",
   "metadata": {},
   "source": [
    "**Insertion**: Insert a new element at the beginning, end or in the middle of the list\n",
    "\n",
    "**Deletion**: Delete an element from the beginning, end or in the middle of the list\n"
   ]
  },
  {
   "cell_type": "code",
   "execution_count": 10,
   "metadata": {
    "vscode": {
     "languageId": "cpp"
    }
   },
   "outputs": [],
   "source": [
    "struct Node {\n",
    "    int val;\n",
    "    Node* next;\n",
    "    \n",
    "    Node(int val) : val(val), next(nullptr) {}\n",
    "};\n",
    "\n",
    "class LinkedList {\n",
    "public:\n",
    "    Node* head;\n",
    "    \n",
    "    LinkedList() : head(nullptr) {}\n",
    "    \n",
    "    void insert(int val) {\n",
    "        Node* newNode = new Node(val);\n",
    "        if (head == nullptr) {\n",
    "            head = newNode;\n",
    "        } else {\n",
    "            Node* current = head;\n",
    "            while (current->next != nullptr) {\n",
    "                current = current->next;\n",
    "            }\n",
    "            current->next = newNode;\n",
    "        }\n",
    "    }\n",
    "    \n",
    "    void deleteNode(int val) {\n",
    "        Node* current = head;\n",
    "        Node* prev = nullptr;\n",
    "        \n",
    "        while (current != nullptr && current->val != val) {\n",
    "            prev = current;\n",
    "            current = current->next;\n",
    "        }\n",
    "        \n",
    "        if (current == nullptr) {\n",
    "            std::cout << \"Value not found in list\" << std::endl;\n",
    "        } else if (prev == nullptr) {\n",
    "            head = current->next;\n",
    "            delete current;\n",
    "        } else {\n",
    "            prev->next = current->next;\n",
    "            delete current;\n",
    "        }\n",
    "    }\n",
    "    \n",
    "    void printList() {\n",
    "        Node* current = head;\n",
    "        while (current != nullptr) {\n",
    "            std::cout << current->val << \" \";\n",
    "            current = current->next;\n",
    "        }\n",
    "        std::cout << std::endl;\n",
    "    }\n",
    "};"
   ]
  },
  {
   "cell_type": "code",
   "execution_count": 11,
   "metadata": {
    "vscode": {
     "languageId": "cpp"
    }
   },
   "outputs": [
    {
     "name": "stdout",
     "output_type": "stream",
     "text": [
      "List before deletion: 1 2 3 4 5 \n",
      "List after deletion: 1 2 4 5 \n"
     ]
    }
   ],
   "source": [
    "LinkedList list;\n",
    "\n",
    "// Insert some values\n",
    "list.insert(1);\n",
    "list.insert(2);\n",
    "list.insert(3);\n",
    "list.insert(4);\n",
    "list.insert(5);\n",
    "\n",
    "std::cout << \"List before deletion: \";\n",
    "list.printList();\n",
    "\n",
    "// Delete a node\n",
    "list.deleteNode(3);\n",
    "\n",
    "std::cout << \"List after deletion: \";\n",
    "list.printList();"
   ]
  },
  {
   "cell_type": "markdown",
   "metadata": {},
   "source": [
    "## 🔗 Further Reading\n",
    "\n",
    "* [Linked List Data Structure](https://www.geeksforgeeks.org/data-structures/linked-list/), geeksforgeeks\n",
    "* ▶️ [Linked Lists Introduction](https://www.youtube.com/watch?v=-Yn5DU0_-lw&t=7s&ab_channel=WilliamFiset), WilliamFiset, 2017\n",
    "* ▶️ [CS50 2018 - Lecture 4 - Linked Lists](https://www.youtube.com/watch?v=wh4TS7RJDTA), CS50, 2018"
   ]
  }
 ],
 "metadata": {
  "kernelspec": {
   "display_name": "C++17",
   "language": "C++17",
   "name": "xcpp17"
  },
  "language_info": {
   "codemirror_mode": "text/x-c++src",
   "file_extension": ".cpp",
   "mimetype": "text/x-c++src",
   "name": "c++",
   "version": "17"
  },
  "orig_nbformat": 4
 },
 "nbformat": 4,
 "nbformat_minor": 2
}
