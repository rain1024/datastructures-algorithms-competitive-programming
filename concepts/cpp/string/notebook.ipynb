{
 "cells": [
  {
   "cell_type": "markdown",
   "metadata": {},
   "source": [
    "# String in C++\n",
    "\n",
    "In competitive programming, programmers use strings or arrays to store and manipulate sequences of characters. This data structure is straightforward, fast, and easy to use. "
   ]
  },
  {
   "cell_type": "markdown",
   "metadata": {},
   "source": [
    "## String implementation in C++"
   ]
  },
  {
   "cell_type": "markdown",
   "metadata": {},
   "source": [
    "## Basic Opeartions"
   ]
  },
  {
   "cell_type": "code",
   "execution_count": 3,
   "metadata": {
    "vscode": {
     "languageId": "cpp"
    }
   },
   "outputs": [],
   "source": [
    "#include <iostream>\n",
    "#include <string>\n",
    "\n",
    "using namespace std;"
   ]
  },
  {
   "cell_type": "markdown",
   "metadata": {},
   "source": [
    "**Initialization**: Create a string with given value"
   ]
  },
  {
   "cell_type": "code",
   "execution_count": 3,
   "metadata": {
    "vscode": {
     "languageId": "cpp"
    }
   },
   "outputs": [
    {
     "name": "stdout",
     "output_type": "stream",
     "text": [
      "hello world"
     ]
    }
   ],
   "source": [
    "string s = \"hello world\";\n",
    "cout << s;"
   ]
  },
  {
   "cell_type": "markdown",
   "metadata": {},
   "source": [
    "**Accessing Characters**: Access a character by its index (zero-based)"
   ]
  },
  {
   "cell_type": "code",
   "execution_count": 4,
   "metadata": {
    "vscode": {
     "languageId": "cpp"
    }
   },
   "outputs": [
    {
     "name": "stdout",
     "output_type": "stream",
     "text": [
      "s[0] = p\n",
      "s[1] = a\n"
     ]
    }
   ],
   "source": [
    "string s = \"programming is fun\";\n",
    "cout << \"s[0] = \" << s[0] << endl;\n",
    "cout << \"s[1] = \" << s[5] << endl;"
   ]
  },
  {
   "cell_type": "markdown",
   "metadata": {},
   "source": [
    "**Updating Characters**: Update a character by its index"
   ]
  },
  {
   "cell_type": "code",
   "execution_count": 14,
   "metadata": {
    "vscode": {
     "languageId": "cpp"
    }
   },
   "outputs": [
    {
     "name": "stdout",
     "output_type": "stream",
     "text": [
      "Before: The cat sat on the mat\n",
      "After : The dog sat on the car\n"
     ]
    }
   ],
   "source": [
    "string s = \"The cat sat on the mat\";\n",
    "cout << \"Before: \" << s << endl;\n",
    "s[4] = 'd';\n",
    "s[5] = 'o';\n",
    "s[6] = 'g';\n",
    "s[19] = 'c';\n",
    "s[21] = 'r';\n",
    "cout << \"After : \" << s << endl;"
   ]
  },
  {
   "cell_type": "markdown",
   "metadata": {},
   "source": [
    "**Traversal**: Visit all characters of the string"
   ]
  },
  {
   "cell_type": "code",
   "execution_count": 15,
   "metadata": {
    "vscode": {
     "languageId": "cpp"
    }
   },
   "outputs": [
    {
     "name": "stdout",
     "output_type": "stream",
     "text": [
      "Vowels: 6\n"
     ]
    }
   ],
   "source": [
    "// count vowels in a string\n",
    "string s = \"the cat sat on the mat\";\n",
    "int vowels = 0;\n",
    "for (int i = 0; i < s.length(); i++) {\n",
    "    if (s[i] == 'a' || s[i] == 'e' || s[i] == 'i' || s[i] == 'o' || s[i] == 'u') {\n",
    "        vowels++;\n",
    "    }\n",
    "}\n",
    "cout << \"Vowels: \" << vowels << endl;"
   ]
  },
  {
   "cell_type": "markdown",
   "metadata": {},
   "source": [
    "**Length**: Get the number of characters in the string"
   ]
  },
  {
   "cell_type": "code",
   "execution_count": 17,
   "metadata": {
    "vscode": {
     "languageId": "cpp"
    }
   },
   "outputs": [
    {
     "name": "stdout",
     "output_type": "stream",
     "text": [
      "Length: 22\n"
     ]
    }
   ],
   "source": [
    "string s = \"the cat sat on the mat\";\n",
    "cout << \"Length: \" << s.length() << endl;"
   ]
  },
  {
   "cell_type": "markdown",
   "metadata": {},
   "source": [
    "**Reversal**: Reverse the order of characters in the string"
   ]
  },
  {
   "cell_type": "code",
   "execution_count": 18,
   "metadata": {
    "vscode": {
     "languageId": "cpp"
    }
   },
   "outputs": [
    {
     "name": "stdout",
     "output_type": "stream",
     "text": [
      "Before: the cat sat on the mat\n",
      "After : tam eht no tas tac eht\n"
     ]
    }
   ],
   "source": [
    "string s = \"the cat sat on the mat\";\n",
    "cout << \"Before: \" << s << endl;\n",
    "reverse(begin(s), end(s));\n",
    "cout << \"After : \" << s << endl;"
   ]
  },
  {
   "cell_type": "markdown",
   "metadata": {},
   "source": [
    "**Uppercase**: Convert all characters in the string to uppercase"
   ]
  },
  {
   "cell_type": "code",
   "execution_count": 20,
   "metadata": {
    "vscode": {
     "languageId": "cpp"
    }
   },
   "outputs": [
    {
     "name": "stdout",
     "output_type": "stream",
     "text": [
      "Before: the cat sat on the mat\n",
      "After : THE CAT SAT ON THE MAT\n"
     ]
    }
   ],
   "source": [
    "string s = \"the cat sat on the mat\";\n",
    "cout << \"Before: \" << s << endl;\n",
    "for (int i = 0; i < s.length(); i++) {\n",
    "    s[i] = toupper(s[i]);\n",
    "}\n",
    "cout << \"After : \" << s << endl;"
   ]
  },
  {
   "cell_type": "markdown",
   "metadata": {},
   "source": [
    "**Lowercase**: Convert all characters in the string to lowercase"
   ]
  },
  {
   "cell_type": "code",
   "execution_count": 21,
   "metadata": {
    "vscode": {
     "languageId": "cpp"
    }
   },
   "outputs": [
    {
     "name": "stdout",
     "output_type": "stream",
     "text": [
      "Before: THE CAT SAT ON THE MAT\n",
      "After : the cat sat on the mat\n"
     ]
    }
   ],
   "source": [
    "string s = \"THE CAT SAT ON THE MAT\";\n",
    "cout << \"Before: \" << s << endl;\n",
    "for (int i = 0; i < s.length(); i++) {\n",
    "    s[i] = tolower(s[i]);\n",
    "}\n",
    "cout << \"After : \" << s << endl;"
   ]
  },
  {
   "cell_type": "markdown",
   "metadata": {},
   "source": [
    "**Letters & Numbers**: Check if characters in the string are letters or numbers\n",
    "\n",
    "You can use\n",
    "\n",
    "* [`isalpha()`](https://cplusplus.com/reference/cctype/isalpha/) function to check if a character is a letter\n",
    "* [`isdigit()`](https://cplusplus.com/reference/cctype/isdigit/) function to check if a character is a number \n",
    "* [`isalnum()`](https://cplusplus.com/reference/cctype/isalnum/) function to check if a character is either a decimal digit or an uppercase or lowercase letter."
   ]
  },
  {
   "cell_type": "code",
   "execution_count": 6,
   "metadata": {
    "vscode": {
     "languageId": "cpp"
    }
   },
   "outputs": [
    {
     "name": "stdout",
     "output_type": "stream",
     "text": [
      "Ihave2dogsapoodlenamedMaxandaGermanShepherdnamed7h3od0r"
     ]
    }
   ],
   "source": [
    "string s = \"I have 2 dogs, a poodle named Max and a German Shepherd named 7h3o#d0r.\";\n",
    "\n",
    "for(int i = 0; i < s.length(); i++) {\n",
    "    if(isalnum(s[i])) {\n",
    "        cout << s[i];\n",
    "    }\n",
    "}"
   ]
  },
  {
   "cell_type": "markdown",
   "metadata": {},
   "source": [
    "## 🔗 Further Reading\n",
    "\n",
    "* [String (computer science)](https://en.wikipedia.org/wiki/String_(computer_science)), wikipedia\n",
    "* ▶️ [Strings](https://youtu.be/tI_tIZFyKBw?t=5369), CS50\n",
    "* ▶️ [How Strings Work in C++ (and how to use them)](https://www.youtube.com/watch?v=ijIxcB9qjaU&ab_channel=TheCherno), The Cherno"
   ]
  }
 ],
 "metadata": {
  "kernelspec": {
   "display_name": "C++17",
   "language": "C++17",
   "name": "xcpp17"
  },
  "language_info": {
   "codemirror_mode": "text/x-c++src",
   "file_extension": ".cpp",
   "mimetype": "text/x-c++src",
   "name": "c++",
   "version": "17"
  },
  "orig_nbformat": 4
 },
 "nbformat": 4,
 "nbformat_minor": 2
}
