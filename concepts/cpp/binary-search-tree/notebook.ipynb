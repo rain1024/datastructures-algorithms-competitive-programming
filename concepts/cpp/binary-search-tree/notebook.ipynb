{
 "cells": [
  {
   "cell_type": "markdown",
   "metadata": {},
   "source": [
    "# Binaray Search Tree\n",
    "\n",
    "A `binary search tree (BST)` is a type of binary tree data structure in which each node has at most two child nodes, usually referred to as left and right children. In a binary search tree, the value of each node is greater than or equal to the values of all nodes in its left subtree and less than or equal to the values of all nodes in its right subtree."
   ]
  },
  {
   "cell_type": "markdown",
   "metadata": {},
   "source": [
    "## Binary Search Tree Implementation in C++"
   ]
  },
  {
   "cell_type": "markdown",
   "metadata": {},
   "source": [
    "Binary Search TreeNode Struct:"
   ]
  },
  {
   "cell_type": "code",
   "execution_count": 1,
   "metadata": {
    "vscode": {
     "languageId": "cpp"
    }
   },
   "outputs": [],
   "source": [
    "#include <iostream>\n",
    "#include <queue>\n",
    "\n",
    "using namespace std;\n",
    "\n",
    "struct TreeNode {\n",
    "  int val;\n",
    "  TreeNode* left;\n",
    "  TreeNode* right;\n",
    "\n",
    "  TreeNode(): val(0), left(nullptr), right(nullptr) {}\n",
    "  TreeNode(int x) : val(x), left(nullptr), right(nullptr) {}\n",
    "  TreeNode(int x, TreeNode* left, TreeNode* right) : val(x), left(left), right(right) {}\n",
    "}"
   ]
  },
  {
   "cell_type": "code",
   "execution_count": 2,
   "metadata": {
    "vscode": {
     "languageId": "cpp"
    }
   },
   "outputs": [],
   "source": [
    "TreeNode* root = new TreeNode(10);"
   ]
  },
  {
   "cell_type": "markdown",
   "metadata": {},
   "source": [
    "**Print**: Print the tree in order"
   ]
  },
  {
   "cell_type": "code",
   "execution_count": 3,
   "metadata": {
    "vscode": {
     "languageId": "cpp"
    }
   },
   "outputs": [],
   "source": [
    "void print(TreeNode* root){\n",
    "  queue<TreeNode*> q;\n",
    "  q.push(root);\n",
    "  int count;\n",
    "  while(!q.empty()){\n",
    "    count = q.size();\n",
    "    while(count > 0){\n",
    "      TreeNode* node = q.front();\n",
    "      q.pop();\n",
    "      cout << node->val << \" \";\n",
    "      if(node->left) q.push(node->left);\n",
    "      if(node->right) q.push(node->right);\n",
    "      count--;\n",
    "    }\n",
    "    cout << endl;\n",
    "  }\n",
    "}"
   ]
  },
  {
   "cell_type": "markdown",
   "metadata": {},
   "source": [
    "**Insertion**: Insert a new node into the tree"
   ]
  },
  {
   "cell_type": "code",
   "execution_count": 4,
   "metadata": {
    "vscode": {
     "languageId": "cpp"
    }
   },
   "outputs": [],
   "source": [
    "TreeNode* insertIntoBST(TreeNode* root, int val) {\n",
    "  if (root == nullptr) {\n",
    "    return new TreeNode(val);\n",
    "  }\n",
    "\n",
    "  if (val < root->val) {\n",
    "    root->left = insertIntoBST(root->left, val);\n",
    "  } else if (val > root->val){\n",
    "    root->right = insertIntoBST(root->right, val);\n",
    "  }\n",
    "\n",
    "  return root;\n",
    "}"
   ]
  },
  {
   "cell_type": "code",
   "execution_count": 5,
   "metadata": {
    "vscode": {
     "languageId": "cpp"
    }
   },
   "outputs": [
    {
     "name": "stdout",
     "output_type": "stream",
     "text": [
      "10 \n",
      "2 15 \n",
      "1 5 11 20 \n"
     ]
    }
   ],
   "source": [
    "root = insertIntoBST(root, 2);\n",
    "root = insertIntoBST(root, 1);\n",
    "root = insertIntoBST(root, 5);\n",
    "root = insertIntoBST(root, 15);\n",
    "root = insertIntoBST(root, 11);\n",
    "root = insertIntoBST(root, 20);\n",
    "print(root)"
   ]
  },
  {
   "cell_type": "markdown",
   "metadata": {},
   "source": [
    "**Deletion**: Delete a node from the tree"
   ]
  },
  {
   "cell_type": "code",
   "execution_count": 6,
   "metadata": {
    "vscode": {
     "languageId": "cpp"
    }
   },
   "outputs": [],
   "source": [
    "TreeNode* deleteNode(TreeNode* root, int key) {\n",
    "  if (root == nullptr) return root;\n",
    "  if (key < root->val)\n",
    "    root->left = deleteNode(root->left, key);\n",
    "  else if (key > root->val)\n",
    "    root->right = deleteNode(root->right, key);\n",
    "  else {\n",
    "    if (!root->left && !root->right) return nullptr;\n",
    "    if (!root->left)\n",
    "      return root->right;\n",
    "    else if (!root->right)\n",
    "      return root->left;\n",
    "    else {\n",
    "      TreeNode* temp = root->right;\n",
    "      while (temp->left) temp = temp->left;\n",
    "      temp->left = root->left;\n",
    "      return root->right;\n",
    "    }\n",
    "  }\n",
    "  return root;\n",
    "}"
   ]
  },
  {
   "cell_type": "code",
   "execution_count": 7,
   "metadata": {
    "vscode": {
     "languageId": "cpp"
    }
   },
   "outputs": [
    {
     "name": "stdout",
     "output_type": "stream",
     "text": [
      "10 \n",
      "2 15 \n",
      "1 11 20 \n"
     ]
    }
   ],
   "source": [
    "root = deleteNode(root, 5);\n",
    "print(root)"
   ]
  },
  {
   "cell_type": "code",
   "execution_count": 8,
   "metadata": {
    "vscode": {
     "languageId": "cpp"
    }
   },
   "outputs": [
    {
     "name": "stdout",
     "output_type": "stream",
     "text": [
      "15 \n",
      "11 20 \n",
      "2 \n",
      "1 \n"
     ]
    }
   ],
   "source": [
    "root = deleteNode(root, 10);\n",
    "print(root)"
   ]
  },
  {
   "cell_type": "markdown",
   "metadata": {},
   "source": [
    "## 🔗 Further Reading\n",
    "\n",
    "* [Binary Search Tree](https://en.wikipedia.org/wiki/Binary_search_tree)\n",
    "* [An Introduction To Binary Search And Red-black Trees](https://www.topcoder.com/thrive/articles/An%20Introduction%20to%20Binary%20Search%20and%20Red-Black%20Trees), TopCoder \n",
    "* ▶️ [Binary Search Tree Introduction](https://www.youtube.com/watch?v=JfSdGQdAzq8&pp=ygUgYmluYXJ5IHNlYXJjaCB0cmVlIHdpbGxpYW0gZmlzZXQ%3D&ab_channel=WilliamFiset), WilliamFiset\n",
    "* ▶️ [Binary Search Tree Insertion](https://www.youtube.com/watch?v=LwpLXm3eb6A&ab_channel=WilliamFiset), WilliamFiset\n",
    "* ▶️ [Data Structures: Binary Search Tree](https://www.youtube.com/watch?v=i_Q0v_Ct5lY&ab_channel=HackerRank), HackerRank"
   ]
  }
 ],
 "metadata": {
  "kernelspec": {
   "display_name": "C++17",
   "language": "C++17",
   "name": "xcpp17"
  },
  "language_info": {
   "codemirror_mode": "text/x-c++src",
   "file_extension": ".cpp",
   "mimetype": "text/x-c++src",
   "name": "c++",
   "version": "17"
  },
  "orig_nbformat": 4
 },
 "nbformat": 4,
 "nbformat_minor": 2
}
