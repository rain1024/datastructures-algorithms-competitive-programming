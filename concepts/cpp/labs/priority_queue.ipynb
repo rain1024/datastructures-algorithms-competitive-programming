{
 "cells": [
  {
   "cell_type": "markdown",
   "metadata": {},
   "source": [
    "# Priority Queue \n",
    "\n",
    "A priority queue is a container that provides constant time lookup of the largest (by default) element, at the expense of logarithmic insertion and extraction.\n",
    "\n",
    "Real world examples of priority queues include:\n",
    "\n",
    "- The task queue in an operating system\n",
    "- The call queue in a call center\n",
    "- The list of pending requests at a web server, sorted by their priority\n"
   ]
  },
  {
   "cell_type": "markdown",
   "metadata": {},
   "source": [
    "## Baisc usage of priority queue\n",
    "\n",
    "C++ has built-in object [`priority_queue`](https://cplusplus.com/reference/queue/priority_queue/) in `queue` library."
   ]
  },
  {
   "cell_type": "code",
   "execution_count": null,
   "metadata": {
    "vscode": {
     "languageId": "cpp"
    }
   },
   "outputs": [],
   "source": [
    "#include <queue>\n",
    "#include <vector>\n",
    "#include <iostream>\n",
    "\n",
    "using namespace std;"
   ]
  },
  {
   "cell_type": "code",
   "execution_count": 13,
   "metadata": {
    "vscode": {
     "languageId": "cpp"
    }
   },
   "outputs": [
    {
     "name": "stdout",
     "output_type": "stream",
     "text": [
      "5\n",
      "3\n",
      "1\n"
     ]
    }
   ],
   "source": [
    "priority_queue<int> pq;\n",
    "\n",
    "pq.push(1);\n",
    "pq.push(5);\n",
    "pq.push(3);\n",
    "\n",
    "while (!pq.empty()) {\n",
    "    cout << pq.top() << endl;\n",
    "    pq.pop();\n",
    "}"
   ]
  },
  {
   "cell_type": "markdown",
   "metadata": {},
   "source": [
    "## Min priority queue\n",
    "\n",
    "If you want min priority queue, you can use `greater<int>` as the third argument."
   ]
  },
  {
   "cell_type": "code",
   "execution_count": 14,
   "metadata": {
    "vscode": {
     "languageId": "cpp"
    }
   },
   "outputs": [
    {
     "name": "stdout",
     "output_type": "stream",
     "text": [
      "1\n",
      "3\n",
      "5\n"
     ]
    }
   ],
   "source": [
    "priority_queue<int, vector<int>, greater<int>> pq;\n",
    "\n",
    "pq.push(1);\n",
    "pq.push(5);\n",
    "pq.push(3);\n",
    "\n",
    "while (!pq.empty()) {\n",
    "    cout << pq.top() << endl;\n",
    "    pq.pop();\n",
    "}"
   ]
  },
  {
   "cell_type": "markdown",
   "metadata": {},
   "source": [
    "## Priority queue with custom comparator\n",
    "\n",
    "Custom Comparision with `priority_queue` is a little bit interesting. You can use custom struct as the third argument."
   ]
  },
  {
   "cell_type": "code",
   "execution_count": 15,
   "metadata": {
    "vscode": {
     "languageId": "cpp"
    }
   },
   "outputs": [],
   "source": [
    "struct Node {\n",
    "  int val;\n",
    "  int priority;\n",
    "};\n",
    "\n",
    "struct compare{\n",
    "  public:\n",
    "  bool operator()(Node& a,Node& b)\n",
    "  {\n",
    "      return a.priority < b.priority;\n",
    "  }\n",
    "};"
   ]
  },
  {
   "cell_type": "code",
   "execution_count": 16,
   "metadata": {
    "vscode": {
     "languageId": "cpp"
    }
   },
   "outputs": [],
   "source": [
    "priority_queue<Node, vector<Node>, compare> pq;\n",
    "pq.push({1, 2});\n",
    "pq.push({5, 6});\n",
    "pq.push({10, 3});"
   ]
  },
  {
   "cell_type": "code",
   "execution_count": 17,
   "metadata": {
    "vscode": {
     "languageId": "cpp"
    }
   },
   "outputs": [
    {
     "name": "stdout",
     "output_type": "stream",
     "text": [
      "5, 6\n",
      "10, 3\n",
      "1, 2\n"
     ]
    }
   ],
   "source": [
    "while(!pq.empty()){\n",
    "    Node tmp = pq.top();\n",
    "    cout << tmp.val << \", \" << tmp.priority << endl;\n",
    "    pq.pop();\n",
    "}"
   ]
  },
  {
   "cell_type": "markdown",
   "metadata": {},
   "source": [
    "## References\n",
    "\n",
    "* [Declaring a priority_queue in c++ with a custom comparator](https://stackoverflow.com/questions/16111337/declaring-a-priority-queue-in-c-with-a-custom-comparator)"
   ]
  }
 ],
 "metadata": {
  "kernelspec": {
   "display_name": "C++17",
   "language": "C++17",
   "name": "xcpp17"
  },
  "language_info": {
   "codemirror_mode": "text/x-c++src",
   "file_extension": ".cpp",
   "mimetype": "text/x-c++src",
   "name": "c++",
   "version": "17"
  },
  "orig_nbformat": 4
 },
 "nbformat": 4,
 "nbformat_minor": 2
}
