{
 "cells": [
  {
   "attachments": {},
   "cell_type": "markdown",
   "metadata": {},
   "source": [
    "# Graph\n",
    "\n",
    "A `graph` is a data structure that consists of the following two components:\n",
    "\n",
    "* A finite set of vertices also called as **nodes**.\n",
    "* A finite set of ordered pair of the form `(u, v)` called as **edge**. The pair is ordered because `(u, v)` is not same as `(v, u)` in case of a **directed graph(di-graph)**. The pair of the form `(u, v)` indicates that there is an edge from vertex u to vertex v. The edges may contain weight/value/cost."
   ]
  },
  {
   "attachments": {},
   "cell_type": "markdown",
   "metadata": {},
   "source": [
    "## Graph Representation in C++"
   ]
  },
  {
   "attachments": {},
   "cell_type": "markdown",
   "metadata": {},
   "source": [
    "Example graph: \n",
    "\n",
    "```\n",
    "   1----->2----->3\n",
    "   ^      |      |\n",
    "   |      |      |\n",
    "   |      v      v\n",
    "   4<-----5<-----6\n",
    "```"
   ]
  },
  {
   "attachments": {},
   "cell_type": "markdown",
   "metadata": {},
   "source": [
    "The most common way to represent a graph is using an `adjacency list`. An adjacency list is a collection of unordered lists used to represent a finite graph. Each list describes the set of neighbors of a node in the graph. The node is represented by the index of the list. The neighbors are the elements of the list. The following is an adjacency list representation of the graph above."
   ]
  },
  {
   "cell_type": "code",
   "execution_count": 2,
   "metadata": {
    "vscode": {
     "languageId": "cpp"
    }
   },
   "outputs": [],
   "source": [
    "#include <iostream>\n",
    "#include <vector>\n",
    "\n",
    "using namespace std;"
   ]
  },
  {
   "cell_type": "code",
   "execution_count": 6,
   "metadata": {
    "vscode": {
     "languageId": "cpp"
    }
   },
   "outputs": [
    {
     "name": "stdout",
     "output_type": "stream",
     "text": [
      "1: 2 \n",
      "2: 3 5 \n",
      "3: 6 \n",
      "4: 1 \n",
      "5: 4 \n",
      "6: 5 \n"
     ]
    }
   ],
   "source": [
    "vector<vector<int>> adj(7); // 1-indexed\n",
    "\n",
    "adj[1] = {2};\n",
    "adj[2] = {3, 5};\n",
    "adj[3] = {6};\n",
    "adj[4] = {1};\n",
    "adj[5] = {4};\n",
    "adj[6] = {5};\n",
    "\n",
    "for(int i=1; i<adj.size(); i++){\n",
    "    cout << i << \": \";\n",
    "    for(int j=0; j<adj[i].size(); j++){\n",
    "        cout << adj[i][j] << \" \";\n",
    "    }\n",
    "    cout << endl;\n",
    "}\n"
   ]
  },
  {
   "attachments": {},
   "cell_type": "markdown",
   "metadata": {},
   "source": [
    "## References\n",
    "\n",
    "* [Graph](https://en.wikipedia.org/wiki/Graph_(abstract_data_type)), wikipedia\n",
    "* ▶️ [Graph Algorithms for Technical Interviews - Full Course](https://www.youtube.com/watch?v=tWVWeAqZ0WU&ab_channel=freeCodeCamp.org), freeCodeCamp.org"
   ]
  }
 ],
 "metadata": {
  "kernelspec": {
   "display_name": "C++17",
   "language": "C++17",
   "name": "xcpp17"
  },
  "language_info": {
   "codemirror_mode": "text/x-c++src",
   "file_extension": ".cpp",
   "mimetype": "text/x-c++src",
   "name": "C++17",
   "version": "17"
  },
  "orig_nbformat": 4
 },
 "nbformat": 4,
 "nbformat_minor": 2
}
