{
 "cells": [
  {
   "cell_type": "markdown",
   "metadata": {},
   "source": [
    "# Array in C++\n",
    "\n",
    "In computer science, an `array` is a data structure consisting of a collection of elements (values or variables), each identified by at least one array index or key. An array is stored such that the position of each element can be computed from its index tuple by a mathematical formula.\n",
    "\n",
    "## Time Complexity Analysis of Array\n",
    "\n",
    "| Operation       | Creation | Insertion        | Accessing | Update | Deletion         | Searching |\n",
    "|-----------------|----------|------------------|-----------|--------|------------------|-----------|\n",
    "| Time Complexity | $O(1)$   | $O(1)$ or $O(n)$ | $O(1)$    | $O(n)$ | $O(1)$ or $O(n)$ | $O(n)$    |"
   ]
  },
  {
   "cell_type": "markdown",
   "metadata": {},
   "source": [
    "## Array implementation in C++"
   ]
  },
  {
   "cell_type": "markdown",
   "metadata": {},
   "source": [
    "## Basic Operations"
   ]
  },
  {
   "cell_type": "code",
   "execution_count": 5,
   "metadata": {
    "vscode": {
     "languageId": "cpp"
    }
   },
   "outputs": [],
   "source": [
    "#include <iostream>\n",
    "\n",
    "using namespace std;"
   ]
  },
  {
   "cell_type": "markdown",
   "metadata": {},
   "source": [
    "**Initialize an array**"
   ]
  },
  {
   "cell_type": "code",
   "execution_count": 12,
   "metadata": {
    "vscode": {
     "languageId": "cpp"
    }
   },
   "outputs": [
    {
     "data": {
      "text/plain": [
       "{ 1, 2, 3, 4, 5 }"
      ]
     },
     "execution_count": 12,
     "metadata": {},
     "output_type": "execute_result"
    }
   ],
   "source": [
    "int a[5] = {1, 2, 3, 4, 5};\n",
    "a"
   ]
  },
  {
   "cell_type": "markdown",
   "metadata": {},
   "source": [
    "**Access element by index (zero-based)**"
   ]
  },
  {
   "cell_type": "code",
   "execution_count": 7,
   "metadata": {
    "vscode": {
     "languageId": "cpp"
    }
   },
   "outputs": [
    {
     "name": "stdout",
     "output_type": "stream",
     "text": [
      "a[0] = 1\n",
      "a[2] = 3\n"
     ]
    }
   ],
   "source": [
    "// Access elements in array\n",
    "cout << \"a[0] = \" << a[0] << endl;\n",
    "cout << \"a[2] = \" << a[2] << endl;"
   ]
  },
  {
   "cell_type": "markdown",
   "metadata": {},
   "source": [
    "**Set value of an element at a given index**"
   ]
  },
  {
   "cell_type": "code",
   "execution_count": 11,
   "metadata": {
    "vscode": {
     "languageId": "cpp"
    }
   },
   "outputs": [
    {
     "name": "stdout",
     "output_type": "stream",
     "text": [
      "a[0] = 100"
     ]
    }
   ],
   "source": [
    "a[0] = 100;\n",
    "cout << \"a[0] = \" << a[0];"
   ]
  },
  {
   "cell_type": "markdown",
   "metadata": {},
   "source": [
    "**Read array from input stream**\n",
    "\n",
    "Using fixed array \n",
    "\n",
    "```cpp\n",
    "int N;\n",
    "int numbers[N];\n",
    "for(int i=0; i<N; i++){\n",
    "  cin >> numbers[i];\n",
    "}\n",
    "```\n",
    "\n",
    "Using vector\n",
    "\n",
    "```cpp\n",
    "#include <vector>\n",
    "\n",
    "int N;\n",
    "vector<int> numbers(N);\n",
    "for(int i=0; i<N; i++){\n",
    "  cin >> numbers[i];\n",
    "}\n",
    "```"
   ]
  },
  {
   "cell_type": "markdown",
   "metadata": {},
   "source": [
    "## 🔗 Further Reading\n",
    "\n",
    "* [Arrays](https://cplusplus.com/doc/tutorial/arrays/), cplusplus.com\n",
    "* ▶️ [Dynamic and Static Arrays](https://www.youtube.com/watch?v=PEnFFiQe1pM&list=PLDV1Zeh2NRsB6SWUrDFW2RmDotAfPbeHu&index=4&ab_channel=WilliamFiset), WilliamFiset\n",
    "* ▶️ [CS50 2020 - Arrays](https://youtu.be/tI_tIZFyKBw?t=3834), CS50\n"
   ]
  }
 ],
 "metadata": {
  "kernelspec": {
   "display_name": "C++17",
   "language": "C++17",
   "name": "xcpp17"
  },
  "language_info": {
   "codemirror_mode": "text/x-c++src",
   "file_extension": ".cpp",
   "mimetype": "text/x-c++src",
   "name": "c++",
   "version": "17"
  },
  "orig_nbformat": 4
 },
 "nbformat": 4,
 "nbformat_minor": 2
}
