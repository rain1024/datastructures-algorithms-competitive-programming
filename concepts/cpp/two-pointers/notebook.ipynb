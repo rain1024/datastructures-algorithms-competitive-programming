{
 "cells": [
  {
   "cell_type": "markdown",
   "metadata": {},
   "source": [
    "# Two Pointers in C++\n",
    "\n",
    "The \"Two Pointers\" technique is a commonly used approach for solving algorithmic problems. This technique involves using two pointers that move through an array or string in a synchronized manner to solve the problem at hand."
   ]
  },
  {
   "cell_type": "markdown",
   "metadata": {},
   "source": [
    "## Problem 1: Remove duplicates from a sorted array\n",
    "\n",
    "Given a sorted array `nums`, remove the duplicates in-place such that each element appears only once and returns the new length."
   ]
  },
  {
   "cell_type": "code",
   "execution_count": 17,
   "metadata": {
    "vscode": {
     "languageId": "cpp"
    }
   },
   "outputs": [],
   "source": [
    "#include <vector>\n",
    "#include <string>\n",
    "\n",
    "using namespace std;\n",
    "\n",
    "typedef vector<int> vi;"
   ]
  },
  {
   "cell_type": "code",
   "execution_count": 18,
   "metadata": {
    "vscode": {
     "languageId": "cpp"
    }
   },
   "outputs": [],
   "source": [
    "vector<int> nums = {1, 1, 2, 3, 7, 7, 9};"
   ]
  },
  {
   "cell_type": "code",
   "execution_count": 19,
   "metadata": {
    "vscode": {
     "languageId": "cpp"
    }
   },
   "outputs": [],
   "source": [
    "vi removeDuplicates(vector<int> nums){\n",
    "  int slow = 0;\n",
    "  for(int fast=1; fast<nums.size(); fast++){\n",
    "    if(nums[fast] != nums[fast-1]){\n",
    "      slow++;\n",
    "      nums[slow] = nums[fast];\n",
    "    }\n",
    "  }\n",
    "  return vector<int>(nums.begin(), nums.begin()+slow+1);\n",
    "}"
   ]
  },
  {
   "cell_type": "code",
   "execution_count": 20,
   "metadata": {
    "vscode": {
     "languageId": "cpp"
    }
   },
   "outputs": [
    {
     "data": {
      "text/plain": [
       "{ 1, 2, 3, 7, 9 }"
      ]
     },
     "execution_count": 20,
     "metadata": {},
     "output_type": "execute_result"
    }
   ],
   "source": [
    "removeDuplicates(nums)"
   ]
  },
  {
   "cell_type": "markdown",
   "metadata": {},
   "source": [
    "## Problem 2: Reversing a string\n",
    "\n",
    "Given a string `s`, reverse the order of characters in each word within a sentence while still preserving whitespace and initial word order."
   ]
  },
  {
   "cell_type": "code",
   "execution_count": 21,
   "metadata": {
    "vscode": {
     "languageId": "cpp"
    }
   },
   "outputs": [],
   "source": [
    "string s = \"Let's take LeetCode contest\";"
   ]
  },
  {
   "cell_type": "code",
   "execution_count": 22,
   "metadata": {
    "vscode": {
     "languageId": "cpp"
    }
   },
   "outputs": [],
   "source": [
    "string reverse(string s){\n",
    "  int i = 0;\n",
    "  int j = s.size()-1;\n",
    "  while(i<j){\n",
    "    swap(s[i], s[j]);\n",
    "    i++;\n",
    "    j--;\n",
    "  }\n",
    "  return s;\n",
    "}"
   ]
  },
  {
   "cell_type": "code",
   "execution_count": 23,
   "metadata": {
    "vscode": {
     "languageId": "cpp"
    }
   },
   "outputs": [
    {
     "data": {
      "text/plain": [
       "\"tsetnoc edoCteeL ekat s'teL\""
      ]
     },
     "execution_count": 23,
     "metadata": {},
     "output_type": "execute_result"
    }
   ],
   "source": [
    "reverse(s)"
   ]
  },
  {
   "cell_type": "markdown",
   "metadata": {},
   "source": [
    "*Note*: In this code, we use [`swap`](https://cplusplus.com/reference/algorithm/swap/) function in `algorithm` header"
   ]
  },
  {
   "cell_type": "markdown",
   "metadata": {},
   "source": [
    "## 🔗 Further Reading \n",
    "\n",
    "* [Two Pointers Technique](https://www.geeksforgeeks.org/two-pointers-technique/), geeksforgeeks\n",
    "* [Two Pointers Technique](https://leetcode.com/articles/two-pointer-technique/), leetcode\n",
    "* ▶️ [How to Use the Two Pointer Technique](https://www.youtube.com/watch?v=-gjxg6Pln50&ab_channel=TeamAlgoDaily), \n",
    "Team AlgoDaily\n",
    "* ▶️ [LeetCode Day 8 - Middle of a Linked List (Two Pointers)](https://www.youtube.com/watch?v=wq4OZZ3YLj4&ab_channel=Errichto), Errichto"
   ]
  }
 ],
 "metadata": {
  "kernelspec": {
   "display_name": "C++17",
   "language": "C++17",
   "name": "xcpp17"
  },
  "language_info": {
   "codemirror_mode": "text/x-c++src",
   "file_extension": ".cpp",
   "mimetype": "text/x-c++src",
   "name": "c++",
   "version": "17"
  },
  "orig_nbformat": 4
 },
 "nbformat": 4,
 "nbformat_minor": 2
}
