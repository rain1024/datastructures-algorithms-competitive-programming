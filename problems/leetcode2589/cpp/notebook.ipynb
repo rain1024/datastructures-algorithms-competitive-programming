{
 "cells": [
  {
   "cell_type": "markdown",
   "metadata": {},
   "source": [
    "# Minimum Time to Complete All Tasks\n",
    "\n",
    "**Key Ideas**\n",
    "\n",
    "* Sort the tasks by their end time\n",
    "* Use boolean array to mark the time is used or not\n",
    "* For each task\n",
    "  * In time range [start time, end time]\n",
    "    * If the time is used, duration - 1\n",
    "  * Finish left duration from end time"
   ]
  },
  {
   "cell_type": "code",
   "execution_count": 18,
   "metadata": {
    "vscode": {
     "languageId": "cpp"
    }
   },
   "outputs": [],
   "source": [
    "#include <vector>\n",
    "#include <iostream>\n",
    "#include <string>"
   ]
  },
  {
   "cell_type": "code",
   "execution_count": 19,
   "metadata": {
    "vscode": {
     "languageId": "cpp"
    }
   },
   "outputs": [],
   "source": [
    "using namespace std;"
   ]
  },
  {
   "cell_type": "code",
   "execution_count": 4,
   "metadata": {
    "vscode": {
     "languageId": "cpp"
    }
   },
   "outputs": [],
   "source": [
    "int x;\n",
    "cin >> x;"
   ]
  },
  {
   "cell_type": "code",
   "execution_count": 29,
   "metadata": {
    "vscode": {
     "languageId": "cpp"
    }
   },
   "outputs": [],
   "source": [
    "auto parse_inputs(string s){\n",
    "  vector<vector<int>> inputs;\n",
    "  vector<int> input;\n",
    "  string value = \"\";\n",
    "  for (int i = 0; i < s.size(); i++) {\n",
    "    if (s[i] == '[') {\n",
    "      input.clear();\n",
    "    } else if (s[i] == ']') {\n",
    "      if (value != \"\") {\n",
    "        input.push_back(stoi(value));\n",
    "        value = \"\";\n",
    "      }\n",
    "      inputs.push_back(input);\n",
    "    } else if (s[i] == ',') {\n",
    "      if (value != \"\") {\n",
    "        input.push_back(stoi(value));\n",
    "        value = \"\";\n",
    "      }\n",
    "    } else {\n",
    "      value += s[i];\n",
    "    }\n",
    "  }\n",
    "  // get rid of the last input\n",
    "  inputs.pop_back();\n",
    "  return inputs;\n",
    "}"
   ]
  },
  {
   "cell_type": "code",
   "execution_count": 32,
   "metadata": {
    "vscode": {
     "languageId": "cpp"
    }
   },
   "outputs": [],
   "source": [
    "auto tasks = parse_inputs(\"[[2,3,1],[4,5,1],[1,5,2]]\");"
   ]
  },
  {
   "cell_type": "code",
   "execution_count": 33,
   "metadata": {
    "vscode": {
     "languageId": "cpp"
    }
   },
   "outputs": [
    {
     "data": {
      "text/plain": [
       "{ { 2, 3, 1 }, { 4, 5, 1 }, { 1, 5, 2 } }"
      ]
     },
     "execution_count": 33,
     "metadata": {},
     "output_type": "execute_result"
    }
   ],
   "source": [
    "tasks"
   ]
  },
  {
   "cell_type": "code",
   "execution_count": 36,
   "metadata": {
    "vscode": {
     "languageId": "cpp"
    }
   },
   "outputs": [],
   "source": [
    "sort(begin(tasks), end(tasks), [](vector<int> a, vector<int> b) {\n",
    "  return a[1] < b[1];\n",
    "});"
   ]
  },
  {
   "cell_type": "code",
   "execution_count": 37,
   "metadata": {
    "vscode": {
     "languageId": "cpp"
    }
   },
   "outputs": [
    {
     "data": {
      "text/plain": [
       "{ { 2, 3, 1 }, { 4, 5, 1 }, { 1, 5, 2 } }"
      ]
     },
     "execution_count": 37,
     "metadata": {},
     "output_type": "execute_result"
    }
   ],
   "source": [
    "tasks"
   ]
  },
  {
   "cell_type": "code",
   "execution_count": 38,
   "metadata": {
    "vscode": {
     "languageId": "cpp"
    }
   },
   "outputs": [],
   "source": [
    "vector<int> v = {1, 2, 3};"
   ]
  },
  {
   "cell_type": "code",
   "execution_count": 41,
   "metadata": {
    "vscode": {
     "languageId": "cpp"
    }
   },
   "outputs": [],
   "source": [
    "std::vector<int> v = {1, 2, 3};\n",
    "int a = v[0], b = v[1], c = v[2];"
   ]
  }
 ],
 "metadata": {
  "kernelspec": {
   "display_name": "C++17",
   "language": "C++17",
   "name": "xcpp17"
  },
  "language_info": {
   "codemirror_mode": "text/x-c++src",
   "file_extension": ".cpp",
   "mimetype": "text/x-c++src",
   "name": "c++",
   "version": "17"
  },
  "orig_nbformat": 4
 },
 "nbformat": 4,
 "nbformat_minor": 2
}
